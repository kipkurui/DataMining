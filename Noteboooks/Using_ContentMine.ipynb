{
 "cells": [
  {
   "cell_type": "markdown",
   "metadata": {},
   "source": [
    "### Test if this is a viable option\n",
    "\n",
    "I am interested in getting all papers on Bioinformatics and Computationall Biology for analysis. I am interested on how the researchers collaborate and the intake of Bioinformatics in Kenya. \n",
    "\n",
    "Some tools I had to install:\n",
    "1. Followed thse intructions: https://github.com/softwaresaved/code-cite/blob/master/notebooks/getpapers.ipynb\n",
    "2. Used this to setup nvm: https://github.com/blahah/installing-node-tools\n",
    "3. Use this<https://github.com/ContentMine/getpapers/wiki/europepmc-query-format> resource to explore more query options. For now we are not getting the expected results\n",
    "4. And this: http://europepmc.org/docs/EBI_Europe_PMC_Web_Service_Reference.pdf"
   ]
  },
  {
   "cell_type": "code",
   "execution_count": 3,
   "metadata": {},
   "outputs": [],
   "source": [
    "import os"
   ]
  },
  {
   "cell_type": "code",
   "execution_count": 87,
   "metadata": {},
   "outputs": [
    {
     "name": "stdout",
     "output_type": "stream",
     "text": [
      "\u001b[32minfo\u001b[39m: Searching using eupmc API\n",
      "\u001b[32minfo\u001b[39m: Running in no-execute mode, so nothing will be downloaded\n",
      "\u001b[32minfo\u001b[39m: Found 39 open access results\n",
      "\u001b[33mwarn\u001b[39m: This version of getpapers wasn't built with this version of the EuPMC api in mind\n",
      "\u001b[33mwarn\u001b[39m: getpapers EuPMCVersion: 5.3.2 vs. 5.3.5 reported by api\n"
     ]
    }
   ],
   "source": [
    "!getpapers --query 'AFF:\"Kenya\" OR METHODS:\"Bioinformatics\"' -n -o data3"
   ]
  },
  {
   "cell_type": "code",
   "execution_count": 7,
   "metadata": {},
   "outputs": [],
   "source": [
    "import json"
   ]
  },
  {
   "cell_type": "code",
   "execution_count": 78,
   "metadata": {},
   "outputs": [],
   "source": [
    "# Directory containing the data\n",
    "data_dir = 'data3/'\n",
    "\n",
    "# File containing the list of matching papers\n",
    "matching_papers = data_dir + 'eupmc_fulltext_html_urls.txt'"
   ]
  },
  {
   "cell_type": "code",
   "execution_count": 79,
   "metadata": {},
   "outputs": [
    {
     "data": {
      "text/plain": [
       "'data3/eupmc_fulltext_html_urls.txt'"
      ]
     },
     "execution_count": 79,
     "metadata": {},
     "output_type": "execute_result"
    }
   ],
   "source": [
    "matching_papers"
   ]
  },
  {
   "cell_type": "code",
   "execution_count": 80,
   "metadata": {},
   "outputs": [],
   "source": [
    "# Get the list of subdirectories\n",
    "\n",
    "papers = []\n",
    "\n",
    "# For each line in matching_papers, strip the start of the line (http://europepmc.org/articles/)\n",
    "\n",
    "with open(matching_papers, 'r') as f:\n",
    "    for line in f:\n",
    "        terms = line.split(\"/\")\n",
    "        if len(terms) > 5:\n",
    "            continue\n",
    "            #papers.append(terms[-2].rstrip())\n",
    "        else:\n",
    "            papers.append(terms[-1].rstrip())"
   ]
  },
  {
   "cell_type": "code",
   "execution_count": 83,
   "metadata": {},
   "outputs": [
    {
     "name": "stdout",
     "output_type": "stream",
     "text": [
      "data3/PMC5599943/eupmc_result.json\n",
      "['Dietary Diversity on the Swahili Coast: The Fauna from Two Zanzibar Trading Locales.']\n",
      "data3/PMC4749632/eupmc_result.json\n",
      "['An Integrative Approach for Understanding Diversity in the Punctelia rudecta Species Complex (Parmeliaceae, Ascomycota).']\n",
      "data3/PMC5507398/eupmc_result.json\n",
      "['Circumscription of the genus Lepra, a recently resurrected genus to accommodate the \"Variolaria\"-group of Pertusaria sensu lato (Pertusariales, Ascomycota).']\n",
      "data3/PMC5242271/eupmc_result.json\n",
      "['The Amphibians of Mount Oku, Cameroon: an updated species inventory and conservation review.']\n",
      "data3/PMC5793054/eupmc_result.json\n"
     ]
    },
    {
     "ename": "UnicodeDecodeError",
     "evalue": "'charmap' codec can't decode byte 0x81 in position 335: character maps to <undefined>",
     "output_type": "error",
     "traceback": [
      "\u001b[1;31m---------------------------------------------------------------------------\u001b[0m",
      "\u001b[1;31mUnicodeDecodeError\u001b[0m                        Traceback (most recent call last)",
      "\u001b[1;32m<ipython-input-83-afe1c41a2084>\u001b[0m in \u001b[0;36m<module>\u001b[1;34m()\u001b[0m\n\u001b[0;32m      8\u001b[0m     \u001b[1;32mif\u001b[0m \u001b[0mfilename\u001b[0m\u001b[1;33m:\u001b[0m\u001b[1;33m\u001b[0m\u001b[0m\n\u001b[0;32m      9\u001b[0m         \u001b[1;32mwith\u001b[0m \u001b[0mopen\u001b[0m\u001b[1;33m(\u001b[0m\u001b[0mfilename\u001b[0m\u001b[1;33m,\u001b[0m \u001b[1;34m'r'\u001b[0m\u001b[1;33m)\u001b[0m \u001b[1;32mas\u001b[0m \u001b[0mf\u001b[0m\u001b[1;33m:\u001b[0m\u001b[1;33m\u001b[0m\u001b[0m\n\u001b[1;32m---> 10\u001b[1;33m             \u001b[0mpaper_json\u001b[0m \u001b[1;33m=\u001b[0m \u001b[0mjson\u001b[0m\u001b[1;33m.\u001b[0m\u001b[0mload\u001b[0m\u001b[1;33m(\u001b[0m\u001b[0mf\u001b[0m\u001b[1;33m)\u001b[0m\u001b[1;33m\u001b[0m\u001b[0m\n\u001b[0m\u001b[0;32m     11\u001b[0m             \u001b[1;31m# Get the DOI\u001b[0m\u001b[1;33m\u001b[0m\u001b[1;33m\u001b[0m\u001b[0m\n\u001b[0;32m     12\u001b[0m             \u001b[1;32mtry\u001b[0m\u001b[1;33m:\u001b[0m\u001b[1;33m\u001b[0m\u001b[0m\n",
      "\u001b[1;32mC:\\Users\\g13k8050\\Anaconda2\\envs\\moringa\\lib\\json\\__init__.py\u001b[0m in \u001b[0;36mload\u001b[1;34m(fp, cls, object_hook, parse_float, parse_int, parse_constant, object_pairs_hook, **kw)\u001b[0m\n\u001b[0;32m    263\u001b[0m \u001b[1;33m\u001b[0m\u001b[0m\n\u001b[0;32m    264\u001b[0m     \"\"\"\n\u001b[1;32m--> 265\u001b[1;33m     return loads(fp.read(),\n\u001b[0m\u001b[0;32m    266\u001b[0m         \u001b[0mcls\u001b[0m\u001b[1;33m=\u001b[0m\u001b[0mcls\u001b[0m\u001b[1;33m,\u001b[0m \u001b[0mobject_hook\u001b[0m\u001b[1;33m=\u001b[0m\u001b[0mobject_hook\u001b[0m\u001b[1;33m,\u001b[0m\u001b[1;33m\u001b[0m\u001b[0m\n\u001b[0;32m    267\u001b[0m         \u001b[0mparse_float\u001b[0m\u001b[1;33m=\u001b[0m\u001b[0mparse_float\u001b[0m\u001b[1;33m,\u001b[0m \u001b[0mparse_int\u001b[0m\u001b[1;33m=\u001b[0m\u001b[0mparse_int\u001b[0m\u001b[1;33m,\u001b[0m\u001b[1;33m\u001b[0m\u001b[0m\n",
      "\u001b[1;32mC:\\Users\\g13k8050\\Anaconda2\\envs\\moringa\\lib\\encodings\\cp1252.py\u001b[0m in \u001b[0;36mdecode\u001b[1;34m(self, input, final)\u001b[0m\n\u001b[0;32m     21\u001b[0m \u001b[1;32mclass\u001b[0m \u001b[0mIncrementalDecoder\u001b[0m\u001b[1;33m(\u001b[0m\u001b[0mcodecs\u001b[0m\u001b[1;33m.\u001b[0m\u001b[0mIncrementalDecoder\u001b[0m\u001b[1;33m)\u001b[0m\u001b[1;33m:\u001b[0m\u001b[1;33m\u001b[0m\u001b[0m\n\u001b[0;32m     22\u001b[0m     \u001b[1;32mdef\u001b[0m \u001b[0mdecode\u001b[0m\u001b[1;33m(\u001b[0m\u001b[0mself\u001b[0m\u001b[1;33m,\u001b[0m \u001b[0minput\u001b[0m\u001b[1;33m,\u001b[0m \u001b[0mfinal\u001b[0m\u001b[1;33m=\u001b[0m\u001b[1;32mFalse\u001b[0m\u001b[1;33m)\u001b[0m\u001b[1;33m:\u001b[0m\u001b[1;33m\u001b[0m\u001b[0m\n\u001b[1;32m---> 23\u001b[1;33m         \u001b[1;32mreturn\u001b[0m \u001b[0mcodecs\u001b[0m\u001b[1;33m.\u001b[0m\u001b[0mcharmap_decode\u001b[0m\u001b[1;33m(\u001b[0m\u001b[0minput\u001b[0m\u001b[1;33m,\u001b[0m\u001b[0mself\u001b[0m\u001b[1;33m.\u001b[0m\u001b[0merrors\u001b[0m\u001b[1;33m,\u001b[0m\u001b[0mdecoding_table\u001b[0m\u001b[1;33m)\u001b[0m\u001b[1;33m[\u001b[0m\u001b[1;36m0\u001b[0m\u001b[1;33m]\u001b[0m\u001b[1;33m\u001b[0m\u001b[0m\n\u001b[0m\u001b[0;32m     24\u001b[0m \u001b[1;33m\u001b[0m\u001b[0m\n\u001b[0;32m     25\u001b[0m \u001b[1;32mclass\u001b[0m \u001b[0mStreamWriter\u001b[0m\u001b[1;33m(\u001b[0m\u001b[0mCodec\u001b[0m\u001b[1;33m,\u001b[0m\u001b[0mcodecs\u001b[0m\u001b[1;33m.\u001b[0m\u001b[0mStreamWriter\u001b[0m\u001b[1;33m)\u001b[0m\u001b[1;33m:\u001b[0m\u001b[1;33m\u001b[0m\u001b[0m\n",
      "\u001b[1;31mUnicodeDecodeError\u001b[0m: 'charmap' codec can't decode byte 0x81 in position 335: character maps to <undefined>"
     ]
    }
   ],
   "source": [
    "for paper_dir in papers:\n",
    "\n",
    "    # Read in the JSON file and get the DOI\n",
    "    \n",
    "    filename = data_dir + paper_dir + '/' + 'eupmc_result.json'\n",
    "    print(filename)\n",
    "    \n",
    "    if filename:\n",
    "        with open(filename, 'r') as f:\n",
    "            paper_json = json.load(f)\n",
    "            # Get the DOI\n",
    "            try:\n",
    "                paper_doi = paper_json['doi']\n",
    "                print(paper_json['title'])\n",
    "            except KeyError:\n",
    "                print(\"No DOI\")           "
   ]
  },
  {
   "cell_type": "code",
   "execution_count": 85,
   "metadata": {},
   "outputs": [
    {
     "data": {
      "text/plain": [
       "dict_keys(['hasSuppl', 'authMan', 'pmcid', 'inPMC', 'authorList', 'hasBook', 'hasDbCrossReferences', 'language', 'keywordList', 'title', 'nihAuthMan', 'firstPublicationDate', 'doi', 'pmid', 'isOpenAccess', 'dateOfRevision', 'hasTMAccessionNumbers', 'pubTypeList', 'journalInfo', 'abstractText', 'affiliation', 'dateOfCreation', 'hasPDF', 'epmcAuthMan', 'source', 'authorString', 'pageInfo', 'inEPMC', 'license', 'pubModel', 'pubYear', 'electronicPublicationDate', 'id', 'hasTextMinedTerms', 'hasLabsLinks', 'hasReferences', 'citedByCount', 'fullTextUrlList'])"
      ]
     },
     "execution_count": 85,
     "metadata": {},
     "output_type": "execute_result"
    }
   ],
   "source": [
    "paper_json.keys()"
   ]
  },
  {
   "cell_type": "code",
   "execution_count": 82,
   "metadata": {},
   "outputs": [
    {
     "data": {
      "text/plain": [
       "['Conservation Programmes, Royal Zoological Society of Scotland, Edinburgh Zoo, Edinburgh, United Kingdom.']"
      ]
     },
     "execution_count": 82,
     "metadata": {},
     "output_type": "execute_result"
    }
   ],
   "source": [
    "paper_json['affiliation']"
   ]
  },
  {
   "cell_type": "code",
   "execution_count": null,
   "metadata": {},
   "outputs": [],
   "source": []
  },
  {
   "cell_type": "code",
   "execution_count": null,
   "metadata": {},
   "outputs": [],
   "source": []
  }
 ],
 "metadata": {
  "kernelspec": {
   "display_name": "Python 3",
   "language": "python",
   "name": "python3"
  },
  "language_info": {
   "codemirror_mode": {
    "name": "ipython",
    "version": 3
   },
   "file_extension": ".py",
   "mimetype": "text/x-python",
   "name": "python",
   "nbconvert_exporter": "python",
   "pygments_lexer": "ipython3",
   "version": "3.6.4"
  }
 },
 "nbformat": 4,
 "nbformat_minor": 2
}
